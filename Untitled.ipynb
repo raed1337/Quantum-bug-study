{
 "cells": [
  {
   "cell_type": "code",
   "execution_count": 1,
   "id": "genetic-listening",
   "metadata": {},
   "outputs": [],
   "source": [
    "import pandas as pd\n",
    "import tqdm.notebook as tq\n",
    "\n",
    "import numpy as np\n",
    "import matplotlib.pyplot as plt\n",
    "import seaborn as sns"
   ]
  },
  {
   "cell_type": "markdown",
   "id": "cleared-undergraduate",
   "metadata": {},
   "source": [
    "# Respositories"
   ]
  },
  {
   "cell_type": "code",
   "execution_count": 2,
   "id": "fresh-pharmaceutical",
   "metadata": {},
   "outputs": [],
   "source": [
    "Respositories = pd.read_csv(\"repo_description_less_20&100.csv\")\n",
    "Respositories['name'] = Respositories['repository'].apply(lambda row : row.split('/')[-1])\n",
    "repo_code_line = pd.read_csv('code_line_summ.csv')\n",
    "releases = pd.read_csv(\"releases.csv\")"
   ]
  },
  {
   "cell_type": "code",
   "execution_count": 3,
   "id": "dressed-luther",
   "metadata": {},
   "outputs": [],
   "source": [
    "Respositories_reviewd_category = pd.read_excel(\"Quantum repositories.xlsx\",engine='openpyxl')\n",
    "Respositories_reviewd_category['name'] = Respositories_reviewd_category['repository'].apply(lambda row : row.split('/')[-1])"
   ]
  },
  {
   "cell_type": "code",
   "execution_count": 4,
   "id": "national-warrior",
   "metadata": {},
   "outputs": [],
   "source": [
    "Respositories_reviewd_category = Respositories_reviewd_category[Respositories_reviewd_category['Category final']!='Abandoned projects'].reset_index(drop=True)\n",
    "repo_code_line = pd.merge(repo_code_line,Respositories_reviewd_category[['name','Category final']],on='name')\n",
    "releases = pd.merge(releases,Respositories_reviewd_category[['repository','Category final']],on='repository')"
   ]
  },
  {
   "cell_type": "code",
   "execution_count": 5,
   "id": "stainless-medium",
   "metadata": {},
   "outputs": [],
   "source": [
    "releases_statistics = releases.groupby('Category final').num_releases.median().sort_values()"
   ]
  },
  {
   "cell_type": "code",
   "execution_count": 6,
   "id": "adequate-notebook",
   "metadata": {},
   "outputs": [],
   "source": [
    "commits_statistic = Respositories_reviewd_category.groupby('Category final').num_commits.median().sort_values()\n",
    "contributors_statistics = Respositories_reviewd_category.groupby('Category final').num_coontributors.median().sort_values()"
   ]
  },
  {
   "cell_type": "code",
   "execution_count": 7,
   "id": "lonely-thousand",
   "metadata": {},
   "outputs": [],
   "source": [
    "nb_project = Respositories_reviewd_category['Category final'].value_counts().reset_index(name='Number of projects')\n",
    "nb_project.columns=['Category final','Number of projects']"
   ]
  },
  {
   "cell_type": "code",
   "execution_count": 8,
   "id": "acknowledged-conditions",
   "metadata": {},
   "outputs": [],
   "source": [
    "code_line_summary = repo_code_line.groupby(['Category final','name']).code.sum().reset_index().groupby(['Category final']).code.median()"
   ]
  },
  {
   "cell_type": "code",
   "execution_count": 9,
   "id": "comic-width",
   "metadata": {},
   "outputs": [],
   "source": [
    "language_stat = repo_code_line.groupby(['Category final','name']).language.count().reset_index().groupby(['Category final']).language.median()"
   ]
  },
  {
   "cell_type": "code",
   "execution_count": 10,
   "id": "immune-religion",
   "metadata": {},
   "outputs": [
    {
     "data": {
      "text/html": [
       "<div>\n",
       "<style scoped>\n",
       "    .dataframe tbody tr th:only-of-type {\n",
       "        vertical-align: middle;\n",
       "    }\n",
       "\n",
       "    .dataframe tbody tr th {\n",
       "        vertical-align: top;\n",
       "    }\n",
       "\n",
       "    .dataframe thead th {\n",
       "        text-align: right;\n",
       "    }\n",
       "</style>\n",
       "<table border=\"1\" class=\"dataframe\">\n",
       "  <thead>\n",
       "    <tr style=\"text-align: right;\">\n",
       "      <th></th>\n",
       "      <th>Category final</th>\n",
       "      <th>Number of projects</th>\n",
       "      <th>num_releases</th>\n",
       "      <th>num_commits</th>\n",
       "      <th>num_coontributors</th>\n",
       "      <th>code</th>\n",
       "      <th>language</th>\n",
       "    </tr>\n",
       "  </thead>\n",
       "  <tbody>\n",
       "    <tr>\n",
       "      <th>0</th>\n",
       "      <td>Quantum circuit simulators</td>\n",
       "      <td>33</td>\n",
       "      <td>9.0</td>\n",
       "      <td>105.0</td>\n",
       "      <td>6.0</td>\n",
       "      <td>35566</td>\n",
       "      <td>10.0</td>\n",
       "    </tr>\n",
       "    <tr>\n",
       "      <th>1</th>\n",
       "      <td>Quantum programing framework</td>\n",
       "      <td>22</td>\n",
       "      <td>10.0</td>\n",
       "      <td>163.5</td>\n",
       "      <td>24.0</td>\n",
       "      <td>49981</td>\n",
       "      <td>12.0</td>\n",
       "    </tr>\n",
       "    <tr>\n",
       "      <th>2</th>\n",
       "      <td>Quantum algorithms</td>\n",
       "      <td>19</td>\n",
       "      <td>7.0</td>\n",
       "      <td>129.0</td>\n",
       "      <td>9.0</td>\n",
       "      <td>26530</td>\n",
       "      <td>9.0</td>\n",
       "    </tr>\n",
       "    <tr>\n",
       "      <th>3</th>\n",
       "      <td>Quantum utility tools</td>\n",
       "      <td>19</td>\n",
       "      <td>7.0</td>\n",
       "      <td>126.0</td>\n",
       "      <td>6.0</td>\n",
       "      <td>27830</td>\n",
       "      <td>9.0</td>\n",
       "    </tr>\n",
       "    <tr>\n",
       "      <th>4</th>\n",
       "      <td>Quantum compilers</td>\n",
       "      <td>9</td>\n",
       "      <td>3.0</td>\n",
       "      <td>179.0</td>\n",
       "      <td>10.0</td>\n",
       "      <td>175364</td>\n",
       "      <td>16.0</td>\n",
       "    </tr>\n",
       "    <tr>\n",
       "      <th>5</th>\n",
       "      <td>Quantum Machine learning</td>\n",
       "      <td>8</td>\n",
       "      <td>2.0</td>\n",
       "      <td>217.0</td>\n",
       "      <td>9.0</td>\n",
       "      <td>33705</td>\n",
       "      <td>10.0</td>\n",
       "    </tr>\n",
       "    <tr>\n",
       "      <th>6</th>\n",
       "      <td>Experimental quantum computing</td>\n",
       "      <td>7</td>\n",
       "      <td>10.0</td>\n",
       "      <td>147.0</td>\n",
       "      <td>15.0</td>\n",
       "      <td>66088</td>\n",
       "      <td>13.0</td>\n",
       "    </tr>\n",
       "    <tr>\n",
       "      <th>7</th>\n",
       "      <td>Quantum-based simulation</td>\n",
       "      <td>2</td>\n",
       "      <td>16.5</td>\n",
       "      <td>459.0</td>\n",
       "      <td>84.5</td>\n",
       "      <td>92819</td>\n",
       "      <td>14.5</td>\n",
       "    </tr>\n",
       "    <tr>\n",
       "      <th>8</th>\n",
       "      <td>Quantum fun</td>\n",
       "      <td>1</td>\n",
       "      <td>15.0</td>\n",
       "      <td>88.0</td>\n",
       "      <td>3.0</td>\n",
       "      <td>3938</td>\n",
       "      <td>8.0</td>\n",
       "    </tr>\n",
       "  </tbody>\n",
       "</table>\n",
       "</div>"
      ],
      "text/plain": [
       "                   Category final  Number of projects  num_releases  \\\n",
       "0      Quantum circuit simulators                  33           9.0   \n",
       "1    Quantum programing framework                  22          10.0   \n",
       "2              Quantum algorithms                  19           7.0   \n",
       "3           Quantum utility tools                  19           7.0   \n",
       "4               Quantum compilers                   9           3.0   \n",
       "5        Quantum Machine learning                   8           2.0   \n",
       "6  Experimental quantum computing                   7          10.0   \n",
       "7        Quantum-based simulation                   2          16.5   \n",
       "8                     Quantum fun                   1          15.0   \n",
       "\n",
       "   num_commits  num_coontributors    code  language  \n",
       "0        105.0                6.0   35566      10.0  \n",
       "1        163.5               24.0   49981      12.0  \n",
       "2        129.0                9.0   26530       9.0  \n",
       "3        126.0                6.0   27830       9.0  \n",
       "4        179.0               10.0  175364      16.0  \n",
       "5        217.0                9.0   33705      10.0  \n",
       "6        147.0               15.0   66088      13.0  \n",
       "7        459.0               84.5   92819      14.5  \n",
       "8         88.0                3.0    3938       8.0  "
      ]
     },
     "execution_count": 10,
     "metadata": {},
     "output_type": "execute_result"
    }
   ],
   "source": [
    "pd.merge(\n",
    "pd.merge(\n",
    "    pd.merge(nb_project,\n",
    "        pd.merge( \n",
    "            pd.merge(releases_statistics,commits_statistic,on='Category final'), contributors_statistics,\n",
    "                on='Category final'),on='Category final'),code_line_summary,on='Category final'),\n",
    "                    language_stat,on='Category final')"
   ]
  },
  {
   "cell_type": "code",
   "execution_count": 11,
   "id": "imposed-solution",
   "metadata": {},
   "outputs": [
    {
     "data": {
      "image/png": "[encoded data removed]",
      "text/plain": [
       "<Figure size 432x288 with 1 Axes>"
      ]
     },
     "metadata": {},
     "output_type": "display_data"
    },
    {
     "data": {
      "image/png": "[encoded data removed]",
      "text/plain": [
       "<Figure size 432x288 with 1 Axes>"
      ]
     },
     "metadata": {},
     "output_type": "display_data"
    },
    {
     "data": {
      "image/png": "[encoded data removed]",
      "text/plain": [
       "<Figure size 432x288 with 1 Axes>"
      ]
     },
     "metadata": {},
     "output_type": "display_data"
    },
    {
     "data": {
      "image/png": "[encoded data removed]",
      "text/plain": [
       "<Figure size 432x288 with 1 Axes>"
      ]
     },
     "metadata": {},
     "output_type": "display_data"
    }
   ],
   "source": [
    "sns.set_theme(style=\"whitegrid\")\n",
    "ax = sns.violinplot(x=Respositories[\"num_commits\"], color=\"skyblue\")\n",
    "median = Respositories[\"num_commits\"].median()\n",
    "ax.set(xlabel=\"(a) Commits median = {}\".format(median))\n",
    "\n",
    "plt.show()\n",
    "\n",
    "sns.set_theme(style=\"whitegrid\")\n",
    "ax = sns.violinplot(x=Respositories[\"num_coontributors\"], color=\"skyblue\")\n",
    "median = Respositories[\"num_coontributors\"].median()\n",
    "ax.set(xlabel=\"(b) Contributors median = {}\".format(median))\n",
    "plt.show()\n",
    "\n",
    "sns.set_theme(style=\"whitegrid\")\n",
    "ax = sns.violinplot(x=repo_code_line.groupby('name').code.mean(), color=\"skyblue\")\n",
    "median = repo_code_line.groupby('name').code.mean().median()\n",
    "ax.set(xlabel=\"(c) LOC median = {}\".format(median))\n",
    "plt.show()\n",
    "\n",
    "sns.set_theme(style=\"whitegrid\")\n",
    "ax = sns.violinplot(x=repo_code_line.groupby('name').language.count(), color=\"skyblue\")\n",
    "median = repo_code_line.groupby('name').language.count().median()\n",
    "ax.set(xlabel=\"(d) Languages median = {}\".format(median))\n",
    "plt.show()"
   ]
  },
  {
   "cell_type": "code",
   "execution_count": 12,
   "id": "visible-northeast",
   "metadata": {},
   "outputs": [
    {
     "data": {
      "text/plain": [
       "[Text(0, 0.5, 'number of quantum projects'), Text(0.5, 0, 'Project category')]"
      ]
     },
     "execution_count": 12,
     "metadata": {},
     "output_type": "execute_result"
    },
    {
     "data": {
      "image/png": "[encoded data removed]",
      "text/plain": [
       "<Figure size 720x360 with 1 Axes>"
      ]
     },
     "metadata": {},
     "output_type": "display_data"
    }
   ],
   "source": [
    "plt.figure(figsize=(10, 5))\n",
    "sns.set_style(\"whitegrid\")\n",
    "sns.set_theme(style=\"whitegrid\")\n",
    "ax = sns.countplot(x=Respositories['Category'], data =Respositories, color=\"skyblue\")\n",
    "\n",
    "sns.despine(left=True)\n",
    "sns.set(font_scale =1.4)\n",
    "plt.xticks(rotation=90)\n",
    "sns.set(font_scale=1.6)\n",
    "ax.set(xlabel='Project category', ylabel='number of quantum projects')"
   ]
  },
  {
   "cell_type": "code",
   "execution_count": 13,
   "id": "charitable-dictionary",
   "metadata": {},
   "outputs": [],
   "source": [
    "Respositories['year'] = pd.to_datetime(Respositories['created_at']).dt.year\n",
    "Respositories['month'] = pd.to_datetime(Respositories['created_at']).dt.month"
   ]
  },
  {
   "cell_type": "code",
   "execution_count": 14,
   "id": "sticky-manhattan",
   "metadata": {},
   "outputs": [],
   "source": [
    "Respositories['year_month'] = Respositories['year'].astype(str) +'-' + Respositories['month'].astype(str)"
   ]
  },
  {
   "cell_type": "code",
   "execution_count": 15,
   "id": "hawaiian-david",
   "metadata": {},
   "outputs": [],
   "source": [
    "test = Respositories.groupby('year').size().reset_index(name='number of projet')\n",
    "test['Number of project over time'] = test['number of projet'].cumsum()"
   ]
  },
  {
   "cell_type": "code",
   "execution_count": 16,
   "id": "owned-eating",
   "metadata": {},
   "outputs": [
    {
     "data": {
      "text/plain": [
       "[Text(0, 0, '2010'),\n",
       " Text(0, 0, '2012'),\n",
       " Text(0, 0, '2014'),\n",
       " Text(0, 0, '2016'),\n",
       " Text(0, 0, '2018'),\n",
       " Text(0, 0, '2020'),\n",
       " Text(0, 0, '2022')]"
      ]
     },
     "execution_count": 16,
     "metadata": {},
     "output_type": "execute_result"
    },
    {
     "data": {
      "image/png": "[encoded data removed]",
      "text/plain": [
       "<Figure size 720x360 with 1 Axes>"
      ]
     },
     "metadata": {},
     "output_type": "display_data"
    }
   ],
   "source": [
    "plt.figure(figsize=(10, 5))\n",
    "sns.set_style(\"whitegrid\")\n",
    "sns.set_theme(style=\"whitegrid\")\n",
    "ax = sns.lineplot(data=test, x=\"year\", y=\"Number of project over time\")\n",
    "ax.set_xlabel(\"year\",fontsize=20)\n",
    "ax.set_ylabel(\"Number of projects\",fontsize=20)\n",
    "ax.set_yticklabels(ax.get_yticks().astype(int), size = 15)\n",
    "ax.set_xticklabels(ax.get_xticks().astype(int), size = 15)"
   ]
  },
  {
   "cell_type": "markdown",
   "id": "generous-palestinian",
   "metadata": {},
   "source": [
    "# commits"
   ]
  },
  {
   "cell_type": "code",
   "execution_count": 17,
   "id": "enhanced-postcard",
   "metadata": {},
   "outputs": [],
   "source": [
    "commits = pd.read_csv('commits.csv')"
   ]
  },
  {
   "cell_type": "code",
   "execution_count": 18,
   "id": "internal-failing",
   "metadata": {},
   "outputs": [],
   "source": [
    "commits['message'].fillna('',inplace=True)"
   ]
  },
  {
   "cell_type": "code",
   "execution_count": 19,
   "id": "sustainable-pound",
   "metadata": {},
   "outputs": [],
   "source": [
    "#key_words = ['fix','error','crash','wrong','bug','issue'\n",
    "             #'fail','failure','correct']\n",
    "key_words= ['fix','error','crash','wrong','bug','issue','inf',\n",
    "             'fail','failure','correct','exception','leak','broke','resolve','resolution','break','problem'\n",
    "             ,'incorrect']\n",
    "commits['isBug']=commits['message'].apply(lambda x: True if any(s in x.lower() for s in key_words) else False)"
   ]
  },
  {
   "cell_type": "code",
   "execution_count": 20,
   "id": "annual-return",
   "metadata": {},
   "outputs": [],
   "source": [
    "commits_bug = commits[commits.isBug==True].copy()"
   ]
  },
  {
   "cell_type": "code",
   "execution_count": 21,
   "id": "black-thailand",
   "metadata": {},
   "outputs": [],
   "source": [
    "commits_bug[commits_bug.repository.isin(Respositories[Respositories.Category!='Abandoned projects'].repository\n",
    "                                       )].to_csv('commit_bugs.csv',index=False)"
   ]
  },
  {
   "cell_type": "code",
   "execution_count": 22,
   "id": "color-sperm",
   "metadata": {},
   "outputs": [],
   "source": [
    "key_words=['closes','fix','fixes','close','closes','closed','resolve','resolves','resolved','closes',\n",
    "               'fix ','fixes ','close ','closes ','closed ','resolve ','resolves ','resolved '] \n",
    "commits['isFixed']=commits['message'].apply(lambda x: True if any(s in x.lower() for s in key_words) else False)"
   ]
  },
  {
   "cell_type": "code",
   "execution_count": 23,
   "id": "laden-herald",
   "metadata": {},
   "outputs": [],
   "source": [
    "commits_fix = commits[commits.isFixed==True].copy()"
   ]
  },
  {
   "cell_type": "markdown",
   "id": "broke-video",
   "metadata": {},
   "source": [
    "# Issues"
   ]
  },
  {
   "cell_type": "code",
   "execution_count": 24,
   "id": "drawn-equipment",
   "metadata": {},
   "outputs": [],
   "source": [
    "issues = pd.read_csv('issues.csv')\n",
    "issues.fillna('',inplace=True)"
   ]
  },
  {
   "cell_type": "code",
   "execution_count": 25,
   "id": "ambient-clear",
   "metadata": {},
   "outputs": [],
   "source": [
    "key_words_label= ['bug']\n",
    "issues['isBug']=issues['labels_name'].apply(lambda x: True if any(s in x.lower() for s in key_words_label) else False)"
   ]
  },
  {
   "cell_type": "code",
   "execution_count": 26,
   "id": "smooth-albert",
   "metadata": {},
   "outputs": [
    {
     "data": {
      "application/vnd.jupyter.widget-view+json": {
       "model_id": "b3df84583ae54e16a54834c79c649813",
       "version_major": 2,
       "version_minor": 0
      },
      "text/plain": [
       "  0%|          | 0/53954 [00:00<?, ?it/s]"
      ]
     },
     "metadata": {},
     "output_type": "display_data"
    }
   ],
   "source": [
    "repos = issues.repository.unique()\n",
    "issues_not_bug = issues[issues['isBug']==False].copy()\n",
    "pbar = tq.tqdm(total = len(issues_not_bug))\n",
    "for repo in repos:\n",
    "    df_tmp = commits_bug[commits_bug.repository==repo]\n",
    "    data_tmp = issues_not_bug[issues_not_bug.repository==repo]\n",
    "    for index, row in data_tmp.iterrows():\n",
    "        pattern = \"#\"+str(row['number'])\n",
    "        tmp_commit = sum(df_tmp['message'].str.findall(r'(#\\d+)').apply(lambda row:pattern in row))\n",
    "        issues.iloc[index, data_tmp.columns.get_loc('isBug')] = True if tmp_commit > 0 else row['isBug']\n",
    "        pbar.update(1)\n",
    "pbar.close()"
   ]
  },
  {
   "cell_type": "code",
   "execution_count": 27,
   "id": "foreign-optimization",
   "metadata": {},
   "outputs": [],
   "source": [
    "issues_bug = issues[issues['isBug']==True].copy()\n",
    "issues_bug.reset_index(drop=True,inplace=True)\n",
    "repos = issues_bug.repository.unique()\n",
    "issues_bug['isFixed'] = False"
   ]
  },
  {
   "cell_type": "code",
   "execution_count": 28,
   "id": "intellectual-accordance",
   "metadata": {},
   "outputs": [
    {
     "data": {
      "text/plain": [
       "(19564, 15)"
      ]
     },
     "execution_count": 28,
     "metadata": {},
     "output_type": "execute_result"
    }
   ],
   "source": [
    "issues_bug.shape"
   ]
  },
  {
   "cell_type": "code",
   "execution_count": 29,
   "id": "miniature-newcastle",
   "metadata": {},
   "outputs": [
    {
     "data": {
      "application/vnd.jupyter.widget-view+json": {
       "model_id": "7765e71f1827413a95518978bb95efa9",
       "version_major": 2,
       "version_minor": 0
      },
      "text/plain": [
       "  0%|          | 0/19564 [00:00<?, ?it/s]"
      ]
     },
     "metadata": {},
     "output_type": "display_data"
    }
   ],
   "source": [
    "pbar = tq.tqdm(total = len(issues_bug))\n",
    "for repo in repos:\n",
    "    df_tmp = commits_fix[commits_fix.repository==repo]\n",
    "    data_tmp = issues_bug[issues_bug.repository==repo]\n",
    "    for index, row in data_tmp.iterrows():\n",
    "        pattern = \"#\"+str(row['number'])\n",
    "        tmp_commit = sum(df_tmp['message'].str.findall(r'(#\\d+)').apply(lambda row:pattern in row))\n",
    "        issues_bug.iloc[index, data_tmp.columns.get_loc('isFixed')] = True if tmp_commit > 0 else row['isFixed']\n",
    "        pbar.update(1)\n",
    "pbar.close()"
   ]
  },
  {
   "cell_type": "code",
   "execution_count": 30,
   "id": "complex-folder",
   "metadata": {},
   "outputs": [
    {
     "data": {
      "image/png": "[encoded data removed]",
      "text/plain": [
       "<Figure size 432x288 with 1 Axes>"
      ]
     },
     "metadata": {},
     "output_type": "display_data"
    }
   ],
   "source": [
    "sns.set_theme(style=\"whitegrid\")\n",
    "ax = sns.violinplot(x=issues_bug[issues_bug.isBug==True].groupby('repository').number.count(), color=\"skyblue\")\n",
    "median = issues_bug[issues_bug.isBug==True].groupby('repository').number.count().median()\n",
    "ax.set(xlabel=\"(d) Bugs median = {}\".format(median))\n",
    "plt.show()"
   ]
  },
  {
   "cell_type": "code",
   "execution_count": 31,
   "id": "impressive-volunteer",
   "metadata": {},
   "outputs": [],
   "source": [
    "issues_bug.created_at = pd.to_datetime(issues_bug.created_at  , format='%Y-%m-%d', errors='ignore')\n",
    "issues_bug.updated_at = pd.to_datetime(issues_bug.updated_at  , format='%Y-%m-%d', errors='ignore')\n",
    "issues_bug.closed_at = pd.to_datetime(issues_bug.closed_at  , format='%Y-%m-%d', errors='ignore')\n",
    "issues_bug['CreationDateyear']= pd.DatetimeIndex(issues_bug.created_at).year\n",
    "issues_bug['UpdateDateyear']= pd.DatetimeIndex(issues_bug.updated_at).year\n",
    "issues_bug['ClosedDateyear']= pd.DatetimeIndex(issues_bug.closed_at).year\n",
    "issues_bug['CreationDatemonth']= issues_bug.created_at.apply(lambda x : x.strftime(\"%m-%Y\"))\n",
    "issues_bug['ClosedDatemonth']= issues_bug.closed_at.apply(lambda x : x.strftime(\"%m-%Y\"))"
   ]
  },
  {
   "cell_type": "code",
   "execution_count": 32,
   "id": "hairy-lobby",
   "metadata": {},
   "outputs": [],
   "source": [
    "closed_issues = issues_bug[issues_bug.state=='closed'].copy()\n",
    "closed_issues['age'] = closed_issues.closed_at - closed_issues.created_at\n",
    "closed_issues['age'] = closed_issues.age.apply(lambda x: x.days)\n",
    "closed_issues['age_min'] = (closed_issues.closed_at - closed_issues.created_at).astype('timedelta64[m]')\n",
    "closed_issues['age_hours'] = closed_issues['age_min']/60\n",
    "closed_issues.reset_index(drop=True,inplace=True)\n",
    "closed_issues_cum_sum = closed_issues.groupby('age').size().cumsum().reset_index(name='cum_val')"
   ]
  },
  {
   "cell_type": "markdown",
   "id": "floral-category",
   "metadata": {},
   "source": [
    "# Classical Commits"
   ]
  },
  {
   "cell_type": "code",
   "execution_count": 33,
   "id": "shared-notion",
   "metadata": {},
   "outputs": [],
   "source": [
    "classic_commits = pd.read_csv('../non_quantum/Classic repositories commits.csv')\n",
    "classic_commits['commit'].fillna('',inplace=True)"
   ]
  },
  {
   "cell_type": "code",
   "execution_count": 34,
   "id": "recorded-craps",
   "metadata": {},
   "outputs": [
    {
     "data": {
      "text/plain": [
       "268.0"
      ]
     },
     "execution_count": 34,
     "metadata": {},
     "output_type": "execute_result"
    }
   ],
   "source": [
    "classic_commits.repository_url.value_counts().median()"
   ]
  },
  {
   "cell_type": "code",
   "execution_count": 35,
   "id": "breeding-salvation",
   "metadata": {},
   "outputs": [],
   "source": [
    "key_words = ['fix','error','crash','wrong','bug','issue','inf'\n",
    "             'fail','failure','correct','exception','leak','broke','resolve','resolution','break','problem'\n",
    "             ,'incorrect', 'insufficientResource','abort']\n",
    "classic_commits['isBug']=classic_commits['commit'].apply(lambda x: True if any(s in x.lower() for s in key_words) else False)\n",
    "\n",
    "classic_commits_bug = classic_commits[classic_commits.isBug==True].copy()"
   ]
  },
  {
   "cell_type": "code",
   "execution_count": 36,
   "id": "descending-president",
   "metadata": {},
   "outputs": [],
   "source": [
    "key_words=['closes','fix','fixes','close','closes','closed','resolve','resolves','resolved'] \n",
    "classic_commits['isFixed']=classic_commits['commit'].apply(lambda x: True if any(s in x.lower() for s in key_words) else False)\n",
    "\n",
    "classic_commits_fix = classic_commits[classic_commits.isFixed==True].copy()"
   ]
  },
  {
   "cell_type": "code",
   "execution_count": 37,
   "id": "documented-charm",
   "metadata": {},
   "outputs": [],
   "source": [
    "classic_repos = classic_commits_fix.repository_url.unique()"
   ]
  },
  {
   "cell_type": "code",
   "execution_count": 38,
   "id": "focused-newspaper",
   "metadata": {},
   "outputs": [],
   "source": [
    "pd.DataFrame(classic_repos).to_csv('Classical repository.csv')"
   ]
  },
  {
   "cell_type": "markdown",
   "id": "stretch-agent",
   "metadata": {},
   "source": [
    "# Classical Issues"
   ]
  },
  {
   "cell_type": "code",
   "execution_count": 39,
   "id": "complex-prayer",
   "metadata": {},
   "outputs": [],
   "source": [
    "classic_issues = pd.read_csv('classic_issues.csv')\n",
    "classic_issues = classic_issues[classic_issues.repository.isin(classic_repos)]"
   ]
  },
  {
   "cell_type": "code",
   "execution_count": 40,
   "id": "closed-prairie",
   "metadata": {},
   "outputs": [],
   "source": [
    "key_words_label= ['bug','defect']\n",
    "classic_issues['labels_name'].fillna('',inplace=True)\n",
    "classic_issues['isBug']=classic_issues['labels_name'].apply(lambda x: True if any(s in \n",
    "                                                                                  x.lower() for s in key_words_label) else False)"
   ]
  },
  {
   "cell_type": "code",
   "execution_count": 41,
   "id": "eastern-paraguay",
   "metadata": {},
   "outputs": [],
   "source": [
    "classic_issues.reset_index(inplace=True,drop=True)"
   ]
  },
  {
   "cell_type": "code",
   "execution_count": 42,
   "id": "romantic-alloy",
   "metadata": {},
   "outputs": [
    {
     "data": {
      "text/plain": [
       "(60779,)"
      ]
     },
     "execution_count": 42,
     "metadata": {},
     "output_type": "execute_result"
    }
   ],
   "source": [
    "classic_issues.url.unique().shape"
   ]
  },
  {
   "cell_type": "code",
   "execution_count": 43,
   "id": "continental-glasgow",
   "metadata": {},
   "outputs": [
    {
     "data": {
      "application/vnd.jupyter.widget-view+json": {
       "model_id": "6a949bc593614357af9c9c71f3382007",
       "version_major": 2,
       "version_minor": 0
      },
      "text/plain": [
       "  0%|          | 0/56785 [00:00<?, ?it/s]"
      ]
     },
     "metadata": {},
     "output_type": "display_data"
    }
   ],
   "source": [
    "repos = classic_issues.repository.unique()\n",
    "issues_not_bug = classic_issues[classic_issues['isBug']==False].copy()\n",
    "pbar = tq.tqdm(total = len(issues_not_bug))\n",
    "for repo in repos:\n",
    "    df_tmp = classic_commits_bug[classic_commits_bug.repository_url==repo]\n",
    "    data_tmp = issues_not_bug[issues_not_bug.repository==repo]\n",
    "    for index, row in data_tmp.iterrows():\n",
    "        pattern = \"#\"+str(row['number'])\n",
    "        tmp_commit = sum(df_tmp['commit'].str.findall(r'(#\\d+)').apply(lambda row:pattern in row))\n",
    "        classic_issues.iloc[index, data_tmp.columns.get_loc('isBug')] = True if tmp_commit > 0 else row['isBug']\n",
    "        pbar.update(1)\n",
    "pbar.close()"
   ]
  },
  {
   "cell_type": "code",
   "execution_count": 44,
   "id": "banned-struggle",
   "metadata": {},
   "outputs": [],
   "source": [
    "classic_issues_bug = classic_issues[classic_issues['isBug']==True].copy()\n",
    "classic_issues_bug.reset_index(drop=True,inplace=True)\n",
    "repos = classic_issues_bug.repository.unique()\n",
    "classic_issues_bug['isFixed'] = False"
   ]
  },
  {
   "cell_type": "code",
   "execution_count": 45,
   "id": "engaged-essay",
   "metadata": {},
   "outputs": [
    {
     "data": {
      "application/vnd.jupyter.widget-view+json": {
       "model_id": "dbbd85eef9cc4c8bb8b34bd2945457a6",
       "version_major": 2,
       "version_minor": 0
      },
      "text/plain": [
       "  0%|          | 0/13165 [00:00<?, ?it/s]"
      ]
     },
     "metadata": {},
     "output_type": "display_data"
    }
   ],
   "source": [
    "pbar = tq.tqdm(total = len(classic_issues_bug))\n",
    "for repo in repos:\n",
    "    df_tmp = classic_commits_fix[classic_commits_fix.repository_url==repo]\n",
    "    data_tmp = classic_issues_bug[classic_issues_bug.repository==repo]\n",
    "    for index, row in data_tmp.iterrows():\n",
    "        pattern = \"#\"+str(row['number'])\n",
    "        tmp_commit = sum(df_tmp['commit'].str.findall(r'(#\\d+)').apply(lambda row:pattern in row))\n",
    "        classic_issues_bug.iloc[index, data_tmp.columns.get_loc('isFixed')] = True if tmp_commit > 0 else row['isFixed']\n",
    "        pbar.update(1)\n",
    "pbar.close()"
   ]
  },
  {
   "cell_type": "code",
   "execution_count": 46,
   "id": "skilled-blanket",
   "metadata": {},
   "outputs": [
    {
     "name": "stdout",
     "output_type": "stream",
     "text": [
      "number of bugs in classical projects = 13165\n"
     ]
    }
   ],
   "source": [
    "classic_issues_bug_number = classic_issues_bug[classic_issues_bug.isBug==True].shape[0]\n",
    "print(\"number of bugs in classical projects = {}\".format(classic_issues_bug_number))"
   ]
  },
  {
   "cell_type": "code",
   "execution_count": 47,
   "id": "early-journalist",
   "metadata": {},
   "outputs": [
    {
     "data": {
      "image/png": "[encoded data removed]",
      "text/plain": [
       "<Figure size 432x288 with 1 Axes>"
      ]
     },
     "metadata": {},
     "output_type": "display_data"
    }
   ],
   "source": [
    "sns.set_theme(style=\"whitegrid\")\n",
    "ax = sns.violinplot(x=classic_issues_bug[classic_issues_bug.isBug==True].groupby('repository').number.count(), color=\"skyblue\")\n",
    "median = classic_issues_bug[classic_issues_bug.isBug==True].groupby('repository').number.count().median()\n",
    "ax.set(xlabel=\"(d) Bugs median = {}\".format(median))\n",
    "plt.show()"
   ]
  },
  {
   "cell_type": "code",
   "execution_count": 48,
   "id": "analyzed-bruce",
   "metadata": {},
   "outputs": [],
   "source": [
    "classic_issues_bug.created_at = pd.to_datetime(classic_issues_bug.created_at  , format='%Y-%m-%d', errors='ignore')\n",
    "classic_issues_bug.updated_at = pd.to_datetime(classic_issues_bug.updated_at  , format='%Y-%m-%d', errors='ignore')\n",
    "classic_issues_bug.closed_at = pd.to_datetime(classic_issues_bug.closed_at  , format='%Y-%m-%d', errors='ignore')\n",
    "classic_issues_bug['CreationDateyear']= pd.DatetimeIndex(classic_issues_bug.created_at).year\n",
    "classic_issues_bug['UpdateDateyear']= pd.DatetimeIndex(classic_issues_bug.updated_at).year\n",
    "classic_issues_bug['ClosedDateyear']= pd.DatetimeIndex(classic_issues_bug.closed_at).year\n",
    "classic_issues_bug['CreationDatemonth']= classic_issues_bug.created_at.apply(lambda x : x.strftime(\"%m-%Y\"))\n",
    "classic_issues_bug['ClosedDatemonth']= classic_issues_bug.closed_at.apply(lambda x : x.strftime(\"%m-%Y\"))"
   ]
  },
  {
   "cell_type": "code",
   "execution_count": 49,
   "id": "mental-rally",
   "metadata": {},
   "outputs": [],
   "source": [
    "classic_closed_issues = classic_issues_bug[classic_issues_bug.state=='closed'].copy()\n",
    "classic_closed_issues['age'] = classic_closed_issues.closed_at - classic_closed_issues.created_at\n",
    "classic_closed_issues['age'] = classic_closed_issues.age.apply(lambda x: x.days)\n",
    "classic_closed_issues['age_min'] = (classic_closed_issues.closed_at - classic_closed_issues.created_at).astype('timedelta64[m]')\n",
    "classic_closed_issues['age_hours'] = classic_closed_issues['age_min']/60\n",
    "classic_closed_issues.reset_index(drop=True,inplace=True)\n",
    "classic_closed_issues_cum_sum = classic_closed_issues.groupby('age').size().cumsum().reset_index(name='cum_val')"
   ]
  },
  {
   "cell_type": "code",
   "execution_count": 50,
   "id": "friendly-trash",
   "metadata": {},
   "outputs": [
    {
     "data": {
      "image/png": "[encoded data removed]",
      "text/plain": [
       "<Figure size 1440x720 with 1 Axes>"
      ]
     },
     "metadata": {},
     "output_type": "display_data"
    }
   ],
   "source": [
    "classic_closed_issues_cum_sum['Percentage'] = classic_closed_issues_cum_sum['cum_val']/len(classic_closed_issues)\n",
    "closed_issues_cum_sum['Percentage'] = closed_issues_cum_sum['cum_val']/len(closed_issues)\n",
    "\n",
    "classic_closed_issues_cum_sum['Project Nature']='Classical roject'\n",
    "closed_issues_cum_sum['Project Nature']='Quantum project'\n",
    "\n",
    "df_final = pd.concat([closed_issues_cum_sum,classic_closed_issues_cum_sum])\n",
    "import seaborn as sns\n",
    "import matplotlib.pyplot as plt\n",
    "plt.figure(figsize=(20,10))\n",
    "sns.set_theme(style=\"whitegrid\")\n",
    "# ax =sns.barplot(x='index', y='Percent',hue='type', data=df_)\n",
    "ax = sns.lineplot(data=df_final, x=\"age\",y=\"Percentage\",hue='Project Nature',err_style=\"band\", \n",
    "             ci='sd', estimator=\"median\")\n",
    "\n",
    "ax.set_xlabel(\"Number of days to fix a bug\",fontsize=20)\n",
    "ax.set_ylabel(\"% of fixed bugs (Median)\",fontsize=20)\n",
    "\n",
    "plt.xlim(-1,2000)\n",
    "\n",
    "\n",
    "ax.set_yticklabels(np.around(ax.get_yticks(),decimals=1), size = 20)\n",
    "ax.set_xticklabels(ax.get_xticks().astype(int), size = 20)\n",
    "plt.savefig(\"CDF.pdf\")"
   ]
  },
  {
   "cell_type": "markdown",
   "id": "alien-nursery",
   "metadata": {},
   "source": [
    "# Code line and file changed"
   ]
  },
  {
   "cell_type": "code",
   "execution_count": 51,
   "id": "prerequisite-enzyme",
   "metadata": {},
   "outputs": [],
   "source": [
    "import glob\n",
    "path = r'../non_quantum/commits/tmp' # use your path\n",
    "all_files = glob.glob(path + \"/*.csv\")"
   ]
  },
  {
   "cell_type": "code",
   "execution_count": 52,
   "id": "owned-martial",
   "metadata": {},
   "outputs": [],
   "source": [
    "classic_commits_fix_bug = classic_commits_fix[classic_commits_fix.isBug==True].copy()"
   ]
  },
  {
   "cell_type": "code",
   "execution_count": 53,
   "id": "reverse-little",
   "metadata": {},
   "outputs": [
    {
     "data": {
      "text/plain": [
       "(46146, 6)"
      ]
     },
     "execution_count": 53,
     "metadata": {},
     "output_type": "execute_result"
    }
   ],
   "source": [
    "classic_commits_fix_bug.shape"
   ]
  },
  {
   "cell_type": "code",
   "execution_count": 54,
   "id": "approximate-ferry",
   "metadata": {},
   "outputs": [
    {
     "data": {
      "application/vnd.jupyter.widget-view+json": {
       "model_id": "7f5fd39b3e3b47aa891f200561c823e7",
       "version_major": 2,
       "version_minor": 0
      },
      "text/plain": [
       "  0%|          | 0/686 [00:00<?, ?it/s]"
      ]
     },
     "metadata": {},
     "output_type": "display_data"
    }
   ],
   "source": [
    "li = []\n",
    "pbar = tq.tqdm(total = len(all_files))\n",
    "\n",
    "for filename in all_files:\n",
    "    df = pd.read_csv(filename, index_col=None, header=0)\n",
    "    frame_merge = pd.merge(df,classic_commits_fix_bug,on='url',how='inner')\n",
    "    files_changed = frame_merge[['repository','url','filename']].drop_duplicates().groupby(['repository','url']).filename.count().reset_index(name = 'number of files')\n",
    "    changes = df.drop_duplicates().groupby('url').changes.sum()\n",
    "    li.append(pd.merge(files_changed,changes,on='url',how='inner'))\n",
    "\n",
    "    pbar.update(1)\n",
    "pbar.close()"
   ]
  },
  {
   "cell_type": "code",
   "execution_count": 55,
   "id": "caring-hotel",
   "metadata": {},
   "outputs": [
    {
     "name": "stderr",
     "output_type": "stream",
     "text": [
      "<ipython-input-55-33951dcbb525>:2: FutureWarning: Indexing with multiple keys (implicitly converted to a tuple of keys) will be deprecated, use a list instead.\n",
      "  data_summary = data.groupby('repository')['changes','number of files'].median().reset_index()\n"
     ]
    }
   ],
   "source": [
    "data = pd.concat(li)\n",
    "data_summary = data.groupby('repository')['changes','number of files'].median().reset_index()\n",
    "data_summary['Project Nature'] = 'Classical project '"
   ]
  },
  {
   "cell_type": "code",
   "execution_count": 56,
   "id": "wireless-leave",
   "metadata": {},
   "outputs": [],
   "source": [
    "import glob\n",
    "path = r'tmp' # use your path\n",
    "all_files = glob.glob(path + \"/*.csv\")\n",
    "commits_fix_bug = commits_fix[commits_fix.isBug==True].copy()"
   ]
  },
  {
   "cell_type": "code",
   "execution_count": 57,
   "id": "sound-center",
   "metadata": {},
   "outputs": [
    {
     "data": {
      "application/vnd.jupyter.widget-view+json": {
       "model_id": "f91970dbd3a642628a133a0f0c946fc2",
       "version_major": 2,
       "version_minor": 0
      },
      "text/plain": [
       "  0%|          | 0/198 [00:00<?, ?it/s]"
      ]
     },
     "metadata": {},
     "output_type": "display_data"
    }
   ],
   "source": [
    "li = []\n",
    "pbar = tq.tqdm(total = len(all_files))\n",
    "\n",
    "for filename in all_files:\n",
    "    df = pd.read_csv(filename, index_col=None, header=0)\n",
    "    frame_merge = pd.merge(df,commits_fix_bug,on='url',how='inner')\n",
    "    files_changed = frame_merge[['repository_x','url','filename']].drop_duplicates().groupby(['repository_x','url']).filename.count().reset_index(name = 'number of files')\n",
    "    changes = df.drop_duplicates().groupby('url').changes.sum()\n",
    "    li.append(pd.merge(files_changed,changes,on='url',how='inner'))\n",
    "\n",
    "    pbar.update(1)\n",
    "pbar.close()"
   ]
  },
  {
   "cell_type": "code",
   "execution_count": 58,
   "id": "educational-guess",
   "metadata": {},
   "outputs": [
    {
     "name": "stderr",
     "output_type": "stream",
     "text": [
      "<ipython-input-58-4be05c947662>:2: FutureWarning: Indexing with multiple keys (implicitly converted to a tuple of keys) will be deprecated, use a list instead.\n",
      "  Quantum_data_summary = Quantum_data.groupby('repository_x')['changes','number of files'].median().reset_index()\n"
     ]
    }
   ],
   "source": [
    "Quantum_data = pd.concat(li)\n",
    "Quantum_data_summary = Quantum_data.groupby('repository_x')['changes','number of files'].median().reset_index()\n",
    "Quantum_data_summary['Project Nature'] = 'Quantum project '"
   ]
  },
  {
   "cell_type": "code",
   "execution_count": 59,
   "id": "prepared-carry",
   "metadata": {},
   "outputs": [],
   "source": [
    "Quantum_data_summary = Quantum_data_summary[Quantum_data_summary.repository_x.isin(Respositories_reviewd_category.repository.unique())]"
   ]
  },
  {
   "cell_type": "code",
   "execution_count": 60,
   "id": "everyday-extension",
   "metadata": {},
   "outputs": [],
   "source": [
    "Quantum_data_summary.columns=data_summary.columns"
   ]
  },
  {
   "cell_type": "code",
   "execution_count": 61,
   "id": "after-contract",
   "metadata": {},
   "outputs": [],
   "source": [
    "summary = pd.concat([Quantum_data_summary,data_summary])"
   ]
  },
  {
   "cell_type": "code",
   "execution_count": 62,
   "id": "aerial-chaos",
   "metadata": {},
   "outputs": [
    {
     "data": {
      "text/plain": [
       "2.0"
      ]
     },
     "execution_count": 62,
     "metadata": {},
     "output_type": "execute_result"
    }
   ],
   "source": [
    "data_summary['number of files'].median()"
   ]
  },
  {
   "cell_type": "code",
   "execution_count": 63,
   "id": "front-vector",
   "metadata": {},
   "outputs": [
    {
     "data": {
      "text/plain": [
       "14.5"
      ]
     },
     "execution_count": 63,
     "metadata": {},
     "output_type": "execute_result"
    }
   ],
   "source": [
    "data_summary['changes'].median()"
   ]
  },
  {
   "cell_type": "code",
   "execution_count": 64,
   "id": "solid-picture",
   "metadata": {},
   "outputs": [
    {
     "data": {
      "text/plain": [
       "Text(0, 0.5, 'Median number of code lines changed \\nin a commit')"
      ]
     },
     "execution_count": 64,
     "metadata": {},
     "output_type": "execute_result"
    },
    {
     "data": {
      "image/png": "[encoded data removed]",
      "text/plain": [
       "<Figure size 720x504 with 2 Axes>"
      ]
     },
     "metadata": {},
     "output_type": "display_data"
    },
    {
     "data": {
      "text/plain": [
       "<Figure size 576x288 with 0 Axes>"
      ]
     },
     "metadata": {},
     "output_type": "display_data"
    }
   ],
   "source": [
    "# plt.figure(figsize=(8,4))\n",
    "fig, axes = plt.subplots(2, 1,figsize=(10,7))\n",
    "sns.set_style(\"whitegrid\")\n",
    "ax = sns.boxplot( \n",
    "                 data=summary, width=.5,saturation=.5\n",
    "                 ,fliersize=0,\n",
    "                 x='Project Nature',\n",
    "                 y=\"number of files\",ax=axes[0])\n",
    "sns.set(font_scale=1)\n",
    "ax.set_xlabel(\"Project Category\",fontsize=15)\n",
    "ax.set_ylabel(\"Median number of files changed \\nin a commit\",fontsize=13)\n",
    "fig = ax.get_figure()\n",
    "ax.set_ylim(0,12)\n",
    "ax.set_ylim(0,8)\n",
    "ax.axes.get_xaxis().set_visible(False)\n",
    "\n",
    "plt.figure(figsize=(8,4))\n",
    "sns.set_style(\"whitegrid\")\n",
    "ax = sns.boxplot( \n",
    "                 data=summary, width=.5,saturation=.5\n",
    "                 ,fliersize=0,\n",
    "                 x='Project Nature',\n",
    "                 y=\"changes\",ax=axes[1])\n",
    "sns.set(font_scale=1)\n",
    "fig = ax.get_figure()\n",
    "ax.set_ylim(0,100)\n",
    "\n",
    "ax.set_xlabel(\"Project Category\",fontsize=15)\n",
    "ax.set_ylabel(\"Median number of code lines changed \\nin a commit\",fontsize=12)"
   ]
  },
  {
   "cell_type": "markdown",
   "id": "cultural-industry",
   "metadata": {},
   "source": [
    "# Issues statistics"
   ]
  },
  {
   "cell_type": "code",
   "execution_count": 65,
   "id": "employed-athletics",
   "metadata": {},
   "outputs": [
    {
     "name": "stdout",
     "output_type": "stream",
     "text": [
      "Quantum median bugs 29.0\n"
     ]
    }
   ],
   "source": [
    "print('Quantum median bugs {}'.format(issues_bug.repository.value_counts().median()))"
   ]
  },
  {
   "cell_type": "code",
   "execution_count": 66,
   "id": "painted-crack",
   "metadata": {},
   "outputs": [
    {
     "name": "stdout",
     "output_type": "stream",
     "text": [
      "classical median bugs 13.0\n"
     ]
    }
   ],
   "source": [
    "print('classical median bugs {}'.format(classic_issues_bug.repository.value_counts().median()))"
   ]
  },
  {
   "cell_type": "code",
   "execution_count": 67,
   "id": "forbidden-growth",
   "metadata": {},
   "outputs": [],
   "source": [
    "closed_issues_bug = issues_bug[issues_bug.state=='closed'].copy()"
   ]
  },
  {
   "cell_type": "code",
   "execution_count": 68,
   "id": "better-buying",
   "metadata": {},
   "outputs": [],
   "source": [
    "issues_with_category = pd.merge(closed_issues_bug,Respositories_reviewd_category,on='repository',how='left')"
   ]
  },
  {
   "cell_type": "code",
   "execution_count": 69,
   "id": "senior-bedroom",
   "metadata": {},
   "outputs": [
    {
     "data": {
      "text/plain": [
       "Category final\n",
       "Quantum utility tools              21.0\n",
       "Quantum circuit simulators         27.0\n",
       "Quantum compilers                  52.0\n",
       "Quantum algorithms                 76.0\n",
       "Quantum programing framework       89.0\n",
       "Quantum Machine learning          104.0\n",
       "Experimental quantum computing    168.5\n",
       "Quantum-based simulation          411.0\n",
       "Name: Count, dtype: float64"
      ]
     },
     "execution_count": 69,
     "metadata": {},
     "output_type": "execute_result"
    }
   ],
   "source": [
    "tmp_stat = issues_with_category.groupby(['Category final','repository']).size().reset_index(name='Count')\n",
    "tmp_stat.groupby('Category final')['Count'].median().sort_values()"
   ]
  },
  {
   "cell_type": "code",
   "execution_count": 70,
   "id": "mental-friendly",
   "metadata": {},
   "outputs": [
    {
     "data": {
      "text/plain": [
       "Category final\n",
       "Quantum programing framework      0.500000\n",
       "Quantum-based simulation          0.500000\n",
       "Quantum circuit simulators        0.521304\n",
       "Quantum utility tools             0.533133\n",
       "Quantum compilers                 0.564911\n",
       "Experimental quantum computing    0.631387\n",
       "Quantum algorithms                0.656977\n",
       "Quantum Machine learning          0.730769\n",
       "Name: Count, dtype: float64"
      ]
     },
     "execution_count": 70,
     "metadata": {},
     "output_type": "execute_result"
    }
   ],
   "source": [
    "tmp_stat = issues_with_category.groupby(['Category final','repository']).isFixed.value_counts(normalize=True\n",
    "                                                                                             ).reset_index(name='Count')\n",
    "tmp_stat.groupby('Category final')['Count'].median().sort_values()"
   ]
  },
  {
   "cell_type": "code",
   "execution_count": 71,
   "id": "preceding-gallery",
   "metadata": {},
   "outputs": [],
   "source": [
    "closed_issues = pd.merge(closed_issues,Respositories_reviewd_category[['repository','Category final']],on='repository')"
   ]
  },
  {
   "cell_type": "code",
   "execution_count": 72,
   "id": "resident-fight",
   "metadata": {},
   "outputs": [],
   "source": [
    "closed_issues_bug_median = closed_issues.groupby(['Category final','repository']\n",
    "                                                ).age_hours.median().reset_index(name='Number of hours to fix a bug')\n",
    "\n",
    "closed_issues_bug_median['Log number of hours to fix a bug'] = closed_issues_bug_median['Number of hours to fix a bug'\n",
    "                                                                                       ].apply(lambda row :np.log(row))\n"
   ]
  },
  {
   "cell_type": "code",
   "execution_count": 73,
   "id": "powered-affairs",
   "metadata": {},
   "outputs": [],
   "source": [
    "Quantum_data_summary = pd.merge(Quantum_data_summary,Respositories_reviewd_category[['repository','Category final']],\n",
    "                                        on='repository')"
   ]
  },
  {
   "cell_type": "code",
   "execution_count": 74,
   "id": "second-jewelry",
   "metadata": {},
   "outputs": [],
   "source": [
    "Quantum_data_summary = pd.merge(Quantum_data_summary,closed_issues_bug_median,\n",
    "                                        on='repository',how='left')"
   ]
  },
  {
   "cell_type": "code",
   "execution_count": 75,
   "id": "recent-bernard",
   "metadata": {},
   "outputs": [
    {
     "data": {
      "text/html": [
       "<div>\n",
       "<style scoped>\n",
       "    .dataframe tbody tr th:only-of-type {\n",
       "        vertical-align: middle;\n",
       "    }\n",
       "\n",
       "    .dataframe tbody tr th {\n",
       "        vertical-align: top;\n",
       "    }\n",
       "\n",
       "    .dataframe thead tr th {\n",
       "        text-align: left;\n",
       "    }\n",
       "\n",
       "    .dataframe thead tr:last-of-type th {\n",
       "        text-align: right;\n",
       "    }\n",
       "</style>\n",
       "<table border=\"1\" class=\"dataframe\">\n",
       "  <thead>\n",
       "    <tr>\n",
       "      <th></th>\n",
       "      <th colspan=\"3\" halign=\"left\">Number of hours to fix a bug</th>\n",
       "      <th colspan=\"3\" halign=\"left\">number of files</th>\n",
       "      <th colspan=\"3\" halign=\"left\">changes</th>\n",
       "    </tr>\n",
       "    <tr>\n",
       "      <th></th>\n",
       "      <th>median</th>\n",
       "      <th>mean</th>\n",
       "      <th>var</th>\n",
       "      <th>median</th>\n",
       "      <th>mean</th>\n",
       "      <th>var</th>\n",
       "      <th>median</th>\n",
       "      <th>mean</th>\n",
       "      <th>var</th>\n",
       "    </tr>\n",
       "    <tr>\n",
       "      <th>Category final_x</th>\n",
       "      <th></th>\n",
       "      <th></th>\n",
       "      <th></th>\n",
       "      <th></th>\n",
       "      <th></th>\n",
       "      <th></th>\n",
       "      <th></th>\n",
       "      <th></th>\n",
       "      <th></th>\n",
       "    </tr>\n",
       "  </thead>\n",
       "  <tbody>\n",
       "    <tr>\n",
       "      <th>Experimental quantum computing</th>\n",
       "      <td>27.983333</td>\n",
       "      <td>105.510000</td>\n",
       "      <td>15998.012201</td>\n",
       "      <td>2.0</td>\n",
       "      <td>1.750000</td>\n",
       "      <td>0.375000</td>\n",
       "      <td>12.25</td>\n",
       "      <td>15.000000</td>\n",
       "      <td>1.003000e+02</td>\n",
       "    </tr>\n",
       "    <tr>\n",
       "      <th>Quantum Machine learning</th>\n",
       "      <td>66.050000</td>\n",
       "      <td>65.173333</td>\n",
       "      <td>2579.020674</td>\n",
       "      <td>2.0</td>\n",
       "      <td>2.000000</td>\n",
       "      <td>1.142857</td>\n",
       "      <td>38.75</td>\n",
       "      <td>61.000000</td>\n",
       "      <td>4.364357e+03</td>\n",
       "    </tr>\n",
       "    <tr>\n",
       "      <th>Quantum algorithms</th>\n",
       "      <td>25.008333</td>\n",
       "      <td>29.262778</td>\n",
       "      <td>771.140812</td>\n",
       "      <td>1.5</td>\n",
       "      <td>2.526316</td>\n",
       "      <td>9.290936</td>\n",
       "      <td>15.50</td>\n",
       "      <td>1121.289474</td>\n",
       "      <td>2.290862e+07</td>\n",
       "    </tr>\n",
       "    <tr>\n",
       "      <th>Quantum circuit simulators</th>\n",
       "      <td>20.608333</td>\n",
       "      <td>36.781322</td>\n",
       "      <td>2831.371789</td>\n",
       "      <td>2.0</td>\n",
       "      <td>2.409091</td>\n",
       "      <td>4.460227</td>\n",
       "      <td>20.00</td>\n",
       "      <td>49.272727</td>\n",
       "      <td>7.744705e+03</td>\n",
       "    </tr>\n",
       "    <tr>\n",
       "      <th>Quantum compilers</th>\n",
       "      <td>20.716667</td>\n",
       "      <td>40.891667</td>\n",
       "      <td>2333.903958</td>\n",
       "      <td>2.0</td>\n",
       "      <td>2.111111</td>\n",
       "      <td>0.861111</td>\n",
       "      <td>28.00</td>\n",
       "      <td>32.222222</td>\n",
       "      <td>5.588819e+02</td>\n",
       "    </tr>\n",
       "    <tr>\n",
       "      <th>Quantum programing framework</th>\n",
       "      <td>34.595833</td>\n",
       "      <td>35.464015</td>\n",
       "      <td>1075.398409</td>\n",
       "      <td>2.0</td>\n",
       "      <td>2.363636</td>\n",
       "      <td>1.766234</td>\n",
       "      <td>30.50</td>\n",
       "      <td>44.204545</td>\n",
       "      <td>1.859087e+03</td>\n",
       "    </tr>\n",
       "    <tr>\n",
       "      <th>Quantum utility tools</th>\n",
       "      <td>15.400000</td>\n",
       "      <td>141.597549</td>\n",
       "      <td>155867.739130</td>\n",
       "      <td>2.0</td>\n",
       "      <td>1.631579</td>\n",
       "      <td>0.467836</td>\n",
       "      <td>11.00</td>\n",
       "      <td>17.552632</td>\n",
       "      <td>4.697193e+02</td>\n",
       "    </tr>\n",
       "    <tr>\n",
       "      <th>Quantum-based simulation</th>\n",
       "      <td>33.941667</td>\n",
       "      <td>33.941667</td>\n",
       "      <td>375.836806</td>\n",
       "      <td>2.0</td>\n",
       "      <td>2.000000</td>\n",
       "      <td>2.000000</td>\n",
       "      <td>63.00</td>\n",
       "      <td>63.000000</td>\n",
       "      <td>5.618000e+03</td>\n",
       "    </tr>\n",
       "  </tbody>\n",
       "</table>\n",
       "</div>"
      ],
      "text/plain": [
       "                               Number of hours to fix a bug              \\\n",
       "                                                     median        mean   \n",
       "Category final_x                                                          \n",
       "Experimental quantum computing                    27.983333  105.510000   \n",
       "Quantum Machine learning                          66.050000   65.173333   \n",
       "Quantum algorithms                                25.008333   29.262778   \n",
       "Quantum circuit simulators                        20.608333   36.781322   \n",
       "Quantum compilers                                 20.716667   40.891667   \n",
       "Quantum programing framework                      34.595833   35.464015   \n",
       "Quantum utility tools                             15.400000  141.597549   \n",
       "Quantum-based simulation                          33.941667   33.941667   \n",
       "\n",
       "                                              number of files            \\\n",
       "                                          var          median      mean   \n",
       "Category final_x                                                          \n",
       "Experimental quantum computing   15998.012201             2.0  1.750000   \n",
       "Quantum Machine learning          2579.020674             2.0  2.000000   \n",
       "Quantum algorithms                 771.140812             1.5  2.526316   \n",
       "Quantum circuit simulators        2831.371789             2.0  2.409091   \n",
       "Quantum compilers                 2333.903958             2.0  2.111111   \n",
       "Quantum programing framework      1075.398409             2.0  2.363636   \n",
       "Quantum utility tools           155867.739130             2.0  1.631579   \n",
       "Quantum-based simulation           375.836806             2.0  2.000000   \n",
       "\n",
       "                                         changes                             \n",
       "                                     var  median         mean           var  \n",
       "Category final_x                                                             \n",
       "Experimental quantum computing  0.375000   12.25    15.000000  1.003000e+02  \n",
       "Quantum Machine learning        1.142857   38.75    61.000000  4.364357e+03  \n",
       "Quantum algorithms              9.290936   15.50  1121.289474  2.290862e+07  \n",
       "Quantum circuit simulators      4.460227   20.00    49.272727  7.744705e+03  \n",
       "Quantum compilers               0.861111   28.00    32.222222  5.588819e+02  \n",
       "Quantum programing framework    1.766234   30.50    44.204545  1.859087e+03  \n",
       "Quantum utility tools           0.467836   11.00    17.552632  4.697193e+02  \n",
       "Quantum-based simulation        2.000000   63.00    63.000000  5.618000e+03  "
      ]
     },
     "execution_count": 75,
     "metadata": {},
     "output_type": "execute_result"
    }
   ],
   "source": [
    "Quantum_data_summary.groupby(['Category final_x'])[['Number of hours to fix a bug','number of files','changes']].agg(\n",
    "    ['median','mean','var'])"
   ]
  },
  {
   "cell_type": "code",
   "execution_count": 76,
   "id": "framed-pricing",
   "metadata": {},
   "outputs": [
    {
     "data": {
      "text/plain": [
       "23.5"
      ]
     },
     "execution_count": 76,
     "metadata": {},
     "output_type": "execute_result"
    }
   ],
   "source": [
    "Quantum_data_summary['Number of hours to fix a bug'].median()"
   ]
  },
  {
   "cell_type": "code",
   "execution_count": 77,
   "id": "logical-quest",
   "metadata": {},
   "outputs": [],
   "source": [
    "# sns.set_style(\"whitegrid\")\n",
    "# fig, axes = plt.subplots(3, 1,figsize=(10,10))\n",
    "# sns.set_style(\"whitegrid\")\n",
    "# ax = sns.boxplot(x='Category final_x', y=\"Log number of hours to fix a bug\", \n",
    "#                  data=Quantum_data_summary,palette=\"Blues_d\", width=.5,saturation=.5)\n",
    "# plt.xticks(rotation=90)\n",
    "# sns.set(font_scale=1)\n",
    "# fig = ax.get_figure()\n",
    "# ax.set_xlabel(\"Project Category\",fontsize=15)\n",
    "# ax.set_ylabel(\"Log number of hours to fix \\na bug\",fontsize=15)\n",
    "\n",
    "# plt.figure(figsize=(8,4))\n",
    "# sns.set_style(\"whitegrid\")\n",
    "# ax = sns.boxplot(x=\"Category final_x\", y=\"number of files\", \n",
    "#                  data=Quantum_data_summary,palette=\"flare\", width=.5,saturation=.5,ax=axes[0])\n",
    "# plt.xticks(rotation=90)\n",
    "# sns.set(font_scale=1)\n",
    "# ax.set(xlabel='Project Category', ylabel='Median number of \\nfiles changed in a commit')\n",
    "# fig = ax.get_figure()\n",
    "# ax.set_ylim(0,12)\n",
    "# ax.axes.get_xaxis().set_visible(False)\n",
    "# ax.set_ylabel(\"Median number of \\nfiles changed in a commit\",fontsize=15)\n",
    "\n",
    "\n",
    "# plt.figure(figsize=(8,4))\n",
    "# ax = sns.boxplot(x=\"Category final_x\", y=\"changes\", \n",
    "#                  data=Quantum_data_summary,palette=\"BuGn_r\", width=.5,saturation=.5,ax=axes[1])\n",
    "# plt.xticks(rotation=90)\n",
    "# sns.set(font_scale=1)\n",
    "# fig = ax.get_figure()\n",
    "# ax.set_ylim(0,300)\n",
    "# ax.axes.get_xaxis().set_visible(False)\n",
    "# ax.set_ylabel(\"Median number of code \\nlines changed in a commit\",fontsize=15)\n"
   ]
  },
  {
   "cell_type": "markdown",
   "id": "critical-indian",
   "metadata": {},
   "source": [
    "# Sampling"
   ]
  },
  {
   "cell_type": "code",
   "execution_count": 78,
   "id": "decent-universal",
   "metadata": {},
   "outputs": [
    {
     "data": {
      "text/plain": [
       "(18777, 36)"
      ]
     },
     "execution_count": 78,
     "metadata": {},
     "output_type": "execute_result"
    }
   ],
   "source": [
    "issues_with_category.shape"
   ]
  },
  {
   "cell_type": "code",
   "execution_count": 91,
   "id": "ambient-metropolitan",
   "metadata": {},
   "outputs": [],
   "source": [
    "is_issues_bug = issues_with_category[issues_with_category.pull_request=='Issue'].copy()"
   ]
  },
  {
   "cell_type": "code",
   "execution_count": 92,
   "id": "optional-model",
   "metadata": {},
   "outputs": [],
   "source": [
    "is_issues_bug = is_issues_bug[['url_x','repository','Category final']] \n",
    "is_issues_bug.columns=['url','repository','Category final']"
   ]
  },
  {
   "cell_type": "code",
   "execution_count": 93,
   "id": "humanitarian-heaven",
   "metadata": {},
   "outputs": [],
   "source": [
    "repo_category_count = is_issues_bug['Category final'].value_counts().reset_index(name='count')\n",
    "repo_category_count.columns = ['Category final','global_size']"
   ]
  },
  {
   "cell_type": "code",
   "execution_count": 94,
   "id": "prostate-worcester",
   "metadata": {},
   "outputs": [],
   "source": [
    "repo_dist = is_issues_bug['Category final'].value_counts(normalize=True)\n",
    "repo_dist = repo_dist.rename('Percent').reset_index()"
   ]
  },
  {
   "cell_type": "code",
   "execution_count": 95,
   "id": "julian-syndicate",
   "metadata": {},
   "outputs": [],
   "source": [
    "repo_dist['contribution'] = round(repo_dist['Percent']*64)"
   ]
  },
  {
   "cell_type": "code",
   "execution_count": 96,
   "id": "conservative-tractor",
   "metadata": {},
   "outputs": [],
   "source": [
    "weight = repo_category_count.global_size.apply(lambda x : np.log(x))\n",
    "weight_normilozed = weight / weight.sum()\n",
    "repo_category_count['weight']=weight_normilozed\n",
    "repo_category_count['contribution'] =376 * repo_category_count.weight"
   ]
  },
  {
   "cell_type": "code",
   "execution_count": 97,
   "id": "spoken-canvas",
   "metadata": {},
   "outputs": [],
   "source": [
    "repo_category_count.contribution = round(repo_category_count.contribution)"
   ]
  },
  {
   "cell_type": "code",
   "execution_count": 98,
   "id": "dental-luxury",
   "metadata": {},
   "outputs": [],
   "source": [
    "samples=[]\n",
    "for index, row in repo_category_count.iterrows():\n",
    "    tmp_df = is_issues_bug[is_issues_bug['Category final']==row['Category final']]\n",
    "    samples.append(tmp_df.sample(int(row.contribution)))\n",
    "df_sample = pd.concat(samples)\n",
    "df_sample.to_csv('test_sample.csv',index=False)"
   ]
  },
  {
   "cell_type": "code",
   "execution_count": 99,
   "id": "temporal-worker",
   "metadata": {},
   "outputs": [],
   "source": [
    "test = pd.read_excel('sam.xlsx',engine='openpyxl')"
   ]
  },
  {
   "cell_type": "code",
   "execution_count": 100,
   "id": "cleared-burden",
   "metadata": {},
   "outputs": [],
   "source": [
    "data_sample = pd.merge(is_issues_bug[['url','Category final']],test,on='url')[['url','Issue type','Compomnent','Category final']]"
   ]
  },
  {
   "cell_type": "code",
   "execution_count": 101,
   "id": "modular-slide",
   "metadata": {},
   "outputs": [],
   "source": [
    "data_sample.to_csv('data_sample_test.csv',index=False)"
   ]
  },
  {
   "cell_type": "code",
   "execution_count": 102,
   "id": "editorial-continent",
   "metadata": {},
   "outputs": [],
   "source": [
    "df_sample = pd.read_excel('sample8.xlsx',engine='openpyxl')"
   ]
  },
  {
   "cell_type": "code",
   "execution_count": 103,
   "id": "modern-cannon",
   "metadata": {},
   "outputs": [
    {
     "data": {
      "text/plain": [
       "Compiler                        68\n",
       "Unitairy transformation         55\n",
       "State preparation               40\n",
       "Other                           40\n",
       "Quanum cloud device             25\n",
       "Measurment                      19\n",
       "pulse generation and control    18\n",
       "Post-processing                 17\n",
       "Visualisation                   15\n",
       "error mitigation                15\n",
       "Simulator                       10\n",
       "Pre-processing                   9\n",
       "Monitoring                       2\n",
       "Name: Compomnent, dtype: int64"
      ]
     },
     "execution_count": 103,
     "metadata": {},
     "output_type": "execute_result"
    }
   ],
   "source": [
    "df_sample['Compomnent'].value_counts()"
   ]
  },
  {
   "cell_type": "code",
   "execution_count": 104,
   "id": "automotive-pleasure",
   "metadata": {},
   "outputs": [
    {
     "data": {
      "text/plain": [
       "[Text(0, 0.5, 'number of quantum bugs'), Text(0.5, 0, 'Compomnent')]"
      ]
     },
     "execution_count": 104,
     "metadata": {},
     "output_type": "execute_result"
    },
    {
     "data": {
      "image/png": "[encoded data removed]",
      "text/plain": [
       "<Figure size 1080x720 with 1 Axes>"
      ]
     },
     "metadata": {},
     "output_type": "display_data"
    }
   ],
   "source": [
    "plt.figure(figsize=(15, 10))\n",
    "sns.set_style(\"whitegrid\")\n",
    "sns.set_theme(style=\"whitegrid\")\n",
    "ax = sns.countplot(x=df_sample['Compomnent'], data =Respositories, color=\"skyblue\")\n",
    "\n",
    "sns.despine(left=True)\n",
    "sns.set(font_scale =1.4)\n",
    "plt.xticks(rotation=90)\n",
    "sns.set(font_scale=1.6)\n",
    "ax.set(xlabel='Compomnent', ylabel='number of quantum bugs')"
   ]
  },
  {
   "cell_type": "code",
   "execution_count": 105,
   "id": "attempted-worth",
   "metadata": {},
   "outputs": [],
   "source": [
    "columns = df_sample['Compomnent'].unique()[:10].tolist() + df_sample['Compomnent'].unique()[13:].tolist() \n",
    "df = pd.DataFrame(index=df_sample['Category final'].unique(),columns=columns)"
   ]
  },
  {
   "cell_type": "code",
   "execution_count": 106,
   "id": "veterinary-revelation",
   "metadata": {},
   "outputs": [],
   "source": [
    "test_df = df_sample.groupby(['Category final','Compomnent']).count()[['url']].reset_index()"
   ]
  },
  {
   "cell_type": "code",
   "execution_count": 108,
   "id": "armed-remove",
   "metadata": {},
   "outputs": [],
   "source": [
    "for c in test_df['Category final'].unique() :\n",
    "    tmp_df = test_df[test_df['Category final']==c]\n",
    "    for index, row in tmp_df.iterrows():\n",
    "        df.loc[c, row['Compomnent']] = row['url']"
   ]
  },
  {
   "cell_type": "code",
   "execution_count": 26,
   "id": "devoted-sixth",
   "metadata": {},
   "outputs": [],
   "source": [
    "df.to_excel('summary_.xlsx')"
   ]
  },
  {
   "cell_type": "code",
   "execution_count": 110,
   "id": "aging-maryland",
   "metadata": {},
   "outputs": [],
   "source": [
    "df_sample_tmp = df_sample.groupby([\"Compomnent\",'Issue type']).size().reset_index(name='count')"
   ]
  },
  {
   "cell_type": "code",
   "execution_count": 111,
   "id": "enormous-choice",
   "metadata": {},
   "outputs": [],
   "source": [
    "columns = df_sample_tmp['Compomnent'].unique().tolist()\n",
    "df = pd.DataFrame(index=df_sample_tmp['Issue type'].unique(),columns=columns)"
   ]
  },
  {
   "cell_type": "code",
   "execution_count": 112,
   "id": "secure-restaurant",
   "metadata": {},
   "outputs": [],
   "source": [
    "for c in df_sample_tmp['Issue type'].unique() :\n",
    "    tmp_df = df_sample_tmp[df_sample_tmp['Issue type']==c].copy()\n",
    "    for index, row in tmp_df.iterrows():\n",
    "        df.loc[c, row['Compomnent']] = row[\"count\"]"
   ]
  },
  {
   "cell_type": "code",
   "execution_count": 113,
   "id": "delayed-nutrition",
   "metadata": {},
   "outputs": [],
   "source": [
    "df.fillna('-').to_excel('summary_issue_type.xlsx')"
   ]
  },
  {
   "cell_type": "code",
   "execution_count": 115,
   "id": "dynamic-raising",
   "metadata": {},
   "outputs": [],
   "source": [
    "# for c in df_sample.Compomnent.unique():\n",
    "#     df_sample_tmp = df_sample[df_sample.Compomnent==c]\n",
    "#     plt.figure(figsize=(10, 5))\n",
    "#     sns.set_style(\"whitegrid\")\n",
    "#     sns.set_theme(style=\"whitegrid\")\n",
    "#     ax = sns.countplot(x=df_sample_tmp['Issue type'], data =df_sample_tmp, color=\"skyblue\")\n",
    "\n",
    "#     sns.despine(left=True)\n",
    "#     plt.xticks(rotation=90)\n",
    "#     sns.set(font_scale=2)\n",
    "# #     ax.set(xlabel='Issue type', ylabel='number of quantum bugs in {} compomnent'.format(c))\n",
    "\n",
    "#     ax.set_xlabel(\"Issue type\",fontsize=15)\n",
    "#     ax.set_ylabel(ylabel='number of bugs in \\n{} compomnent'.format(c),fontsize=15)\n",
    "\n",
    "#     ax.set_yticklabels(ax.get_yticks().astype(int), size = 15)\n",
    "#     _, xlabels = plt.xticks()\n",
    "#     ax.set_xticklabels(xlabels, size=15)\n",
    "#     fig = ax.get_figure()\n",
    "#     fig.savefig('{}.pdf'.format(c), bbox_inches='tight')"
   ]
  },
  {
   "cell_type": "code",
   "execution_count": 34,
   "id": "quality-drawing",
   "metadata": {},
   "outputs": [],
   "source": [
    "df_sample.groupby(['Compomnent','Issue type']).count().to_excel('Summary.xlsx')"
   ]
  },
  {
   "cell_type": "code",
   "execution_count": 116,
   "id": "worst-quebec",
   "metadata": {},
   "outputs": [],
   "source": [
    "df = pd.read_excel('Summary.xlsx',engine='openpyxl')"
   ]
  },
  {
   "cell_type": "code",
   "execution_count": 117,
   "id": "civilian-regular",
   "metadata": {},
   "outputs": [
    {
     "name": "stdout",
     "output_type": "stream",
     "text": [
      "Configuration issue\n",
      "Data types and structures issues \n",
      "Missing Error handeling\n",
      "Performance issue\n",
      "Permission/deprecation issue\n",
      "Program anomaly issue\n",
      "Test code-related issue\n",
      "Enhancement/Feature Request\n",
      "DataBase related issues\n",
      "Documentation\n",
      "Gui related issues\n",
      "Misuse\n",
      "Network issues\n",
      "Monitoring\n"
     ]
    }
   ],
   "source": [
    "for c in df['Issue type'].unique():\n",
    "    print(c)"
   ]
  }
 ],
 "metadata": {
  "kernelspec": {
   "display_name": "Python 3",
   "language": "python",
   "name": "python3"
  },
  "language_info": {
   "codemirror_mode": {
    "name": "ipython",
    "version": 3
   },
   "file_extension": ".py",
   "mimetype": "text/x-python",
   "name": "python",
   "nbconvert_exporter": "python",
   "pygments_lexer": "ipython3",
   "version": "3.8.3"
  }
 },
 "nbformat": 4,
 "nbformat_minor": 5
}
